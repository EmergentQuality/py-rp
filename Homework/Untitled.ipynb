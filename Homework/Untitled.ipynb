{
 "cells": [
  {
   "cell_type": "code",
   "execution_count": 1,
   "metadata": {},
   "outputs": [
    {
     "name": "stdout",
     "output_type": "stream",
     "text": [
      "Calling from 123 to 617\n",
      "Sending text from 123 to 666\n",
      "Hi!\n"
     ]
    }
   ],
   "source": [
    "class Phone:\n",
    "    \n",
    "  def __init__(self, phone_number):\n",
    "    self.number = phone_number\n",
    "\n",
    "  def call(self, other_number):\n",
    "    print(\"Calling from\", self.number, \"to\", other_number)\n",
    "\n",
    "  def text(self, other_number, msg):\n",
    "    print(\"Sending text from\", self.number, \"to\", other_number)\n",
    "    print(msg)\n",
    "\n",
    "test_phone = Phone(123)\n",
    "test_phone.call(617)\n",
    "test_phone.text(666, \"Hi!\")"
   ]
  },
  {
   "cell_type": "code",
   "execution_count": 15,
   "metadata": {},
   "outputs": [],
   "source": [
    "class IPhone(Phone):\n",
    "    \n",
    "  def __init__(self, phone_number):\n",
    "    super().__init__(phone_number)\n",
    "    self.fingerprint = None\n",
    "    self.os = iOS\n",
    "\n",
    "  def set_fingerprint(self, fingerprint):\n",
    "    self.fingerprint = fingerprint\n",
    "\n",
    "  def unlock(self, fingerprint=None):\n",
    "    if (self.fingerprint == None):\n",
    "      print(\"Phone unlocked. No fingerprint needed.\")\n",
    "    elif (fingerprint == self.fingerprint):\n",
    "      print(\"Phone unlocked. Fingerprint matches.\")\n",
    "    else:\n",
    "      print(\"Phone locked. Fingerprint doesn't match.\")\n",
    "  def check_os(self, os):\n",
    "    return self.os"
   ]
  },
  {
   "cell_type": "code",
   "execution_count": 16,
   "metadata": {},
   "outputs": [
    {
     "ename": "NameError",
     "evalue": "name 'iOS' is not defined",
     "output_type": "error",
     "traceback": [
      "\u001b[0;31m---------------------------------------------------------------------------\u001b[0m",
      "\u001b[0;31mNameError\u001b[0m                                 Traceback (most recent call last)",
      "\u001b[0;32m<ipython-input-16-5aa0168992d5>\u001b[0m in \u001b[0;36m<module>\u001b[0;34m()\u001b[0m\n\u001b[0;32m----> 1\u001b[0;31m \u001b[0mmy_iphone\u001b[0m \u001b[0;34m=\u001b[0m \u001b[0mIPhone\u001b[0m\u001b[0;34m(\u001b[0m\u001b[0;36m151\u001b[0m\u001b[0;34m)\u001b[0m\u001b[0;34m\u001b[0m\u001b[0m\n\u001b[0m\u001b[1;32m      2\u001b[0m \u001b[0mmy_iphone\u001b[0m\u001b[0;34m.\u001b[0m\u001b[0munlock\u001b[0m\u001b[0;34m(\u001b[0m\u001b[0;34m)\u001b[0m\u001b[0;34m\u001b[0m\u001b[0m\n\u001b[1;32m      3\u001b[0m \u001b[0mmy_iphone\u001b[0m\u001b[0;34m.\u001b[0m\u001b[0mset_fingerprint\u001b[0m\u001b[0;34m(\u001b[0m\u001b[0;34m\"Jory's Fingerprint\"\u001b[0m\u001b[0;34m)\u001b[0m\u001b[0;34m\u001b[0m\u001b[0m\n\u001b[1;32m      4\u001b[0m \u001b[0mmy_iphone\u001b[0m\u001b[0;34m.\u001b[0m\u001b[0munlock\u001b[0m\u001b[0;34m(\u001b[0m\u001b[0;34m)\u001b[0m\u001b[0;34m\u001b[0m\u001b[0m\n\u001b[1;32m      5\u001b[0m \u001b[0mmy_iphone\u001b[0m\u001b[0;34m.\u001b[0m\u001b[0munlock\u001b[0m\u001b[0;34m(\u001b[0m\u001b[0;34m\"Jory's Fingerprint\"\u001b[0m\u001b[0;34m)\u001b[0m\u001b[0;34m\u001b[0m\u001b[0m\n",
      "\u001b[0;32m<ipython-input-15-93409d5bb4cd>\u001b[0m in \u001b[0;36m__init__\u001b[0;34m(self, phone_number)\u001b[0m\n\u001b[1;32m      4\u001b[0m     \u001b[0msuper\u001b[0m\u001b[0;34m(\u001b[0m\u001b[0;34m)\u001b[0m\u001b[0;34m.\u001b[0m\u001b[0m__init__\u001b[0m\u001b[0;34m(\u001b[0m\u001b[0mphone_number\u001b[0m\u001b[0;34m)\u001b[0m\u001b[0;34m\u001b[0m\u001b[0m\n\u001b[1;32m      5\u001b[0m     \u001b[0mself\u001b[0m\u001b[0;34m.\u001b[0m\u001b[0mfingerprint\u001b[0m \u001b[0;34m=\u001b[0m \u001b[0;32mNone\u001b[0m\u001b[0;34m\u001b[0m\u001b[0m\n\u001b[0;32m----> 6\u001b[0;31m     \u001b[0mself\u001b[0m\u001b[0;34m.\u001b[0m\u001b[0mos\u001b[0m \u001b[0;34m=\u001b[0m \u001b[0miOS\u001b[0m\u001b[0;34m\u001b[0m\u001b[0m\n\u001b[0m\u001b[1;32m      7\u001b[0m \u001b[0;34m\u001b[0m\u001b[0m\n\u001b[1;32m      8\u001b[0m   \u001b[0;32mdef\u001b[0m \u001b[0mset_fingerprint\u001b[0m\u001b[0;34m(\u001b[0m\u001b[0mself\u001b[0m\u001b[0;34m,\u001b[0m \u001b[0mfingerprint\u001b[0m\u001b[0;34m)\u001b[0m\u001b[0;34m:\u001b[0m\u001b[0;34m\u001b[0m\u001b[0m\n",
      "\u001b[0;31mNameError\u001b[0m: name 'iOS' is not defined"
     ]
    }
   ],
   "source": [
    "my_iphone = IPhone(151)\n",
    "my_iphone.unlock()\n",
    "my_iphone.set_fingerprint(\"Jory's Fingerprint\")\n",
    "my_iphone.unlock()\n",
    "my_iphone.unlock(\"Jory's Fingerprint\")\n",
    "\n",
    "# And we can call the Phone methods:\n",
    "my_iphone.call(515)\n",
    "my_iphone.text(51121, \"Hi!\")"
   ]
  },
  {
   "cell_type": "code",
   "execution_count": 14,
   "metadata": {},
   "outputs": [
    {
     "ename": "AttributeError",
     "evalue": "'IPhone' object has no attribute 'os'",
     "output_type": "error",
     "traceback": [
      "\u001b[0;31m---------------------------------------------------------------------------\u001b[0m",
      "\u001b[0;31mAttributeError\u001b[0m                            Traceback (most recent call last)",
      "\u001b[0;32m<ipython-input-14-39897d6b94a0>\u001b[0m in \u001b[0;36m<module>\u001b[0;34m()\u001b[0m\n\u001b[0;32m----> 1\u001b[0;31m \u001b[0mprint\u001b[0m\u001b[0;34m(\u001b[0m\u001b[0mmy_iphone\u001b[0m\u001b[0;34m.\u001b[0m\u001b[0mos\u001b[0m\u001b[0;34m)\u001b[0m\u001b[0;34m\u001b[0m\u001b[0m\n\u001b[0m",
      "\u001b[0;31mAttributeError\u001b[0m: 'IPhone' object has no attribute 'os'"
     ]
    }
   ],
   "source": [
    "print(my_iphone.os)"
   ]
  }
 ],
 "metadata": {
  "kernelspec": {
   "display_name": "Python 3",
   "language": "python",
   "name": "python3"
  },
  "language_info": {
   "codemirror_mode": {
    "name": "ipython",
    "version": 3
   },
   "file_extension": ".py",
   "mimetype": "text/x-python",
   "name": "python",
   "nbconvert_exporter": "python",
   "pygments_lexer": "ipython3",
   "version": "3.6.5"
  }
 },
 "nbformat": 4,
 "nbformat_minor": 2
}
